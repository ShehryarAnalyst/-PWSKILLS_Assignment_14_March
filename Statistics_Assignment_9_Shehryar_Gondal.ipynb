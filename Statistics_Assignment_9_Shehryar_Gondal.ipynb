{
 "cells": [
  {
   "cell_type": "markdown",
   "id": "1e4e360d",
   "metadata": {},
   "source": [
    "## Assignments Questions"
   ]
  },
  {
   "cell_type": "markdown",
   "id": "44519185",
   "metadata": {},
   "source": [
    "__Q1. Write a Python function that takes in two arrays of data and calculates the F-value for a variance ratio\n",
    "test. The function should return the F-value and the corresponding p-value for the test.__"
   ]
  },
  {
   "cell_type": "code",
   "execution_count": 1,
   "id": "271a3c6b",
   "metadata": {},
   "outputs": [],
   "source": [
    "import numpy as np\n",
    "from scipy.stats import f\n",
    "\n",
    "def variance_ratio_test(data1, data2):\n",
    "    \"\"\"\n",
    "    Conducts an F-test for equality of variances between two arrays of data.\n",
    "    \n",
    "    Parameters:\n",
    "        data1 (array-like): First array of data.\n",
    "        data2 (array-like): Second array of data.\n",
    "        \n",
    "    Returns:\n",
    "        f_value (float): F-value for the variance ratio test.\n",
    "        p_value (float): Corresponding p-value for the test.\n",
    "    \"\"\"\n",
    "    n1 = len(data1)\n",
    "    n2 = len(data2)\n",
    "    var1 = np.var(data1, ddof=1)\n",
    "    var2 = np.var(data2, ddof=1)\n",
    "    f_value = var1 / var2 if var1 >= var2 else var2 / var1\n",
    "    df1 = n1 - 1\n",
    "    df2 = n2 - 1\n",
    "    if var1 >= var2:\n",
    "        p_value = f.sf(f_value, df1, df2)\n",
    "    else:\n",
    "        p_value = f.sf(1/f_value, df2, df1)\n",
    "    return f_value, p_value"
   ]
  },
  {
   "cell_type": "code",
   "execution_count": 2,
   "id": "7e73d125",
   "metadata": {},
   "outputs": [
    {
     "name": "stdout",
     "output_type": "stream",
     "text": [
      "F-value: 1.0\n",
      "p-value: 0.5\n"
     ]
    }
   ],
   "source": [
    "data1 = [2, 4, 6, 8, 10]\n",
    "data2 = [1, 3, 5, 7, 9]\n",
    "f_value, p_value = variance_ratio_test(data1, data2)\n",
    "print('F-value:', f_value)\n",
    "print('p-value:', p_value)"
   ]
  },
  {
   "cell_type": "markdown",
   "id": "a5b04cc2",
   "metadata": {},
   "source": [
    "__This will output the F-value and corresponding p-value for the variance ratio test on the two input arrays of data.__"
   ]
  },
  {
   "cell_type": "markdown",
   "id": "ddfe2d1d",
   "metadata": {},
   "source": [
    "__Q2. Given a significance level of 0.05 and the degrees of freedom for the numerator and denominator of an\n",
    "F-distribution, write a Python function that returns the critical F-value for a two-tailed test.__"
   ]
  },
  {
   "cell_type": "code",
   "execution_count": 3,
   "id": "8e29e882",
   "metadata": {},
   "outputs": [
    {
     "name": "stdout",
     "output_type": "stream",
     "text": [
      "Critical F-value: 0.025341563254390048\n"
     ]
    }
   ],
   "source": [
    "from scipy.stats import f\n",
    "\n",
    "def critical_f_value(alpha, dfn, dfd):\n",
    "    \"\"\"\n",
    "    Calculates the critical F-value for a two-tailed test given a significance level and the degrees\n",
    "    of freedom for the numerator and denominator of an F-distribution.\n",
    "    \n",
    "    Parameters:\n",
    "        alpha (float): Significance level.\n",
    "        dfn (int): Degrees of freedom for the numerator.\n",
    "        dfd (int): Degrees of freedom for the denominator.\n",
    "        \n",
    "    Returns:\n",
    "        critical_f (float): Critical F-value for the two-tailed test.\n",
    "    \"\"\"\n",
    "    return f.ppf(alpha/2, dfn, dfd, loc=0, scale=1)\n",
    "\n",
    "alpha = 0.05\n",
    "dfn = 2\n",
    "dfd = 27\n",
    "critical_f = critical_f_value(alpha, dfn, dfd)\n",
    "print('Critical F-value:', critical_f)"
   ]
  },
  {
   "cell_type": "markdown",
   "id": "e1b01ede",
   "metadata": {},
   "source": [
    "__Q3. Write a Python program that generates random samples from two normal distributions with known variances and uses an F-test to determine if the variances are equal. The program should output the F-\n",
    "value, degrees of freedom, and p-value for the test.__"
   ]
  },
  {
   "cell_type": "code",
   "execution_count": 4,
   "id": "b6beb1f3",
   "metadata": {},
   "outputs": [
    {
     "name": "stdout",
     "output_type": "stream",
     "text": [
      "F-value: 0.830514714670898\n",
      "Degrees of freedom: 49 , 49\n",
      "p-value: 1.481859740443157\n"
     ]
    }
   ],
   "source": [
    "import numpy as np\n",
    "from scipy.stats import f\n",
    "\n",
    "# set the known variances for the two normal distributions\n",
    "var1 = 1\n",
    "var2 = 2\n",
    "\n",
    "# generate random samples from the two normal distributions\n",
    "sample_size = 50\n",
    "mean1 = 0\n",
    "mean2 = 0\n",
    "data1 = np.random.normal(mean1, np.sqrt(var1), sample_size)\n",
    "data2 = np.random.normal(mean2, np.sqrt(var2), sample_size)\n",
    "\n",
    "# conduct F-test for equality of variances\n",
    "f_value = np.var(data1, ddof=1) / np.var(data2, ddof=1)\n",
    "df1 = sample_size - 1\n",
    "df2 = sample_size - 1\n",
    "p_value = f.sf(f_value, df1, df2) * 2  # multiply by 2 for two-tailed test\n",
    "\n",
    "# output results\n",
    "print('F-value:', f_value)\n",
    "print('Degrees of freedom:', df1, ',', df2)\n",
    "print('p-value:', p_value)"
   ]
  },
  {
   "cell_type": "markdown",
   "id": "cd345117",
   "metadata": {},
   "source": [
    "__Q4.The variances of two populations are known to be 10 and 15. A sample of 12 observations is taken from\n",
    "each population. Conduct an F-test at the 5% significance level to determine if the variances are\n",
    "significantly different.__"
   ]
  },
  {
   "cell_type": "code",
   "execution_count": 5,
   "id": "ea3a865e",
   "metadata": {},
   "outputs": [
    {
     "name": "stdout",
     "output_type": "stream",
     "text": [
      "Fail to reject null hypothesis. Variances are not significantly different.\n"
     ]
    }
   ],
   "source": [
    "import numpy as np\n",
    "from scipy.stats import f\n",
    "\n",
    "# set the known variances for the two populations\n",
    "var1 = 10\n",
    "var2 = 15\n",
    "\n",
    "# set the sample sizes\n",
    "n1 = 12\n",
    "n2 = 12\n",
    "\n",
    "# generate random samples from the two populations\n",
    "data1 = np.random.normal(0, np.sqrt(var1), n1)\n",
    "data2 = np.random.normal(0, np.sqrt(var2), n2)\n",
    "\n",
    "# calculate the F-value and p-value\n",
    "f_value = var2 / var1 if var2 >= var1 else var1 / var2\n",
    "dfn = n2 - 1\n",
    "dfd = n1 - 1\n",
    "p_value = f.sf(f_value, dfn, dfd)\n",
    "\n",
    "# set the significance level\n",
    "alpha = 0.05\n",
    "\n",
    "# compare the p-value to the significance level\n",
    "if p_value <= alpha:\n",
    "    print('Reject null hypothesis. Variances are significantly different.')\n",
    "else:\n",
    "    print('Fail to reject null hypothesis. Variances are not significantly different.')"
   ]
  },
  {
   "cell_type": "markdown",
   "id": "314e0cc2",
   "metadata": {},
   "source": [
    "__Q5. A manufacturer claims that the variance of the diameter of a certain product is 0.005. A sample of 25\n",
    "products is taken, and the sample variance is found to be 0.006. Conduct an F-test at the 1% significance\n",
    "level to determine if the claim is justified.__"
   ]
  },
  {
   "cell_type": "code",
   "execution_count": 6,
   "id": "dff2560b",
   "metadata": {},
   "outputs": [
    {
     "name": "stdout",
     "output_type": "stream",
     "text": [
      "Fail to reject null hypothesis. Claim is justified.\n"
     ]
    }
   ],
   "source": [
    "import numpy as np\n",
    "from scipy.stats import f\n",
    "\n",
    "# set the claimed population variance\n",
    "var_c = 0.005\n",
    "\n",
    "# set the sample size\n",
    "n = 25\n",
    "\n",
    "# generate random sample from the population\n",
    "data = np.random.normal(0, np.sqrt(var_c), n)\n",
    "\n",
    "# calculate the F-value and p-value\n",
    "var_s = np.var(data, ddof=1)\n",
    "f_value = var_s / var_c\n",
    "dfn = n - 1\n",
    "dfd = n - 1\n",
    "p_value = f.sf(f_value, dfn, dfd)\n",
    "\n",
    "# set the significance level\n",
    "alpha = 0.01\n",
    "\n",
    "# compare the p-value to the significance level\n",
    "if p_value <= alpha:\n",
    "    print('Reject null hypothesis. Claim is not justified.')\n",
    "else:\n",
    "    print('Fail to reject null hypothesis. Claim is justified.')"
   ]
  },
  {
   "cell_type": "markdown",
   "id": "44deba7b",
   "metadata": {},
   "source": [
    "__Q6. Write a Python function that takes in the degrees of freedom for the numerator and denominator of an\n",
    "F-distribution and calculates the mean and variance of the distribution. The function should return the\n",
    "mean and variance as a tuple.__"
   ]
  },
  {
   "cell_type": "code",
   "execution_count": 7,
   "id": "cd431e54",
   "metadata": {},
   "outputs": [],
   "source": [
    "def f_distribution_stats(df_num, df_den):\n",
    "    mean = df_den / (df_den - 2)\n",
    "    variance = (2 * (df_den**2) * (df_num + df_den - 2)) / (df_num * (df_den - 2)**2 * (df_den - 4))\n",
    "    return mean, variance"
   ]
  },
  {
   "cell_type": "markdown",
   "id": "9f955eeb",
   "metadata": {},
   "source": [
    "__Q7. A random sample of 10 measurements is taken from a normal population with unknown variance. The\n",
    "sample variance is found to be 25. Another random sample of 15 measurements is taken from another\n",
    "normal population with unknown variance, and the sample variance is found to be 20. Conduct an F-test\n",
    "at the 10% significance level to determine if the variances are significantly different.__"
   ]
  },
  {
   "cell_type": "code",
   "execution_count": 8,
   "id": "b03a302a",
   "metadata": {},
   "outputs": [
    {
     "name": "stdout",
     "output_type": "stream",
     "text": [
      "Fail to reject null hypothesis. Variances are not significantly different.\n"
     ]
    }
   ],
   "source": [
    "import numpy as np\n",
    "from scipy.stats import f\n",
    "\n",
    "# set the sample sizes and variances\n",
    "n1 = 10\n",
    "n2 = 15\n",
    "var1 = 25\n",
    "var2 = 20\n",
    "\n",
    "# generate random samples from the two populations\n",
    "data1 = np.random.normal(0, np.sqrt(var1), n1)\n",
    "data2 = np.random.normal(0, np.sqrt(var2), n2)\n",
    "\n",
    "# calculate the F-value and p-value\n",
    "f_value = var2 / var1 if var2 >= var1 else var1 / var2\n",
    "dfn = n2 - 1\n",
    "dfd = n1 - 1\n",
    "p_value = f.sf(f_value, dfn, dfd)\n",
    "\n",
    "# set the significance level\n",
    "alpha = 0.10\n",
    "\n",
    "# compare the p-value to the significance level\n",
    "if p_value <= alpha:\n",
    "    print('Reject null hypothesis. Variances are significantly different.')\n",
    "else:\n",
    "    print('Fail to reject null hypothesis. Variances are not significantly different.')"
   ]
  },
  {
   "cell_type": "markdown",
   "id": "87c6b54a",
   "metadata": {},
   "source": [
    "__Q8. The following data represent the waiting times in minutes at two different restaurants on a Saturday\n",
    "night: Restaurant A: 24, 25, 28, 23, 22, 20, 27; Restaurant B: 31, 33, 35, 30, 32, 36. Conduct an F-test at the 5%\n",
    "significance level to determine if the variances are significantly different.__"
   ]
  },
  {
   "cell_type": "code",
   "execution_count": 9,
   "id": "08bafc8e",
   "metadata": {},
   "outputs": [
    {
     "name": "stdout",
     "output_type": "stream",
     "text": [
      "Fail to reject null hypothesis. Variances are not significantly different.\n"
     ]
    }
   ],
   "source": [
    "import numpy as np\n",
    "from scipy.stats import f\n",
    "\n",
    "# set the waiting times for the two restaurants\n",
    "wait_times_a = np.array([24, 25, 28, 23, 22, 20, 27])\n",
    "wait_times_b = np.array([31, 33, 35, 30, 32, 36])\n",
    "\n",
    "# calculate the sample variances\n",
    "var_a = np.var(wait_times_a, ddof=1)\n",
    "var_b = np.var(wait_times_b, ddof=1)\n",
    "\n",
    "# calculate the F-value and p-value\n",
    "f_value = var_b / var_a if var_b >= var_a else var_a / var_b\n",
    "dfn = len(wait_times_b) - 1\n",
    "dfd = len(wait_times_a) - 1\n",
    "p_value = f.sf(f_value, dfn, dfd)\n",
    "\n",
    "# set the significance level\n",
    "alpha = 0.05\n",
    "\n",
    "# compare the p-value to the significance level\n",
    "if p_value <= alpha:\n",
    "    print('Reject null hypothesis. Variances are significantly different.')\n",
    "else:\n",
    "    print('Fail to reject null hypothesis. Variances are not significantly different.')"
   ]
  },
  {
   "cell_type": "markdown",
   "id": "14d454ab",
   "metadata": {},
   "source": [
    "__Q9. The following data represent the test scores of two groups of students: Group A: 80, 85, 90, 92, 87, 83;\n",
    "Group B: 75, 78, 82, 79, 81, 84. Conduct an F-test at the 1% significance level to determine if the variances\n",
    "are significantly different.__"
   ]
  },
  {
   "cell_type": "code",
   "execution_count": 10,
   "id": "19cadb7a",
   "metadata": {},
   "outputs": [
    {
     "name": "stdout",
     "output_type": "stream",
     "text": [
      "Fail to reject null hypothesis. Variances are not significantly different.\n"
     ]
    }
   ],
   "source": [
    "import numpy as np\n",
    "from scipy.stats import f\n",
    "\n",
    "# set the test scores for the two groups\n",
    "test_scores_a = np.array([80, 85, 90, 92, 87, 83])\n",
    "test_scores_b = np.array([75, 78, 82, 79, 81, 84])\n",
    "\n",
    "# calculate the sample variances\n",
    "var_a = np.var(test_scores_a, ddof=1)\n",
    "var_b = np.var(test_scores_b, ddof=1)\n",
    "\n",
    "# calculate the F-value and p-value\n",
    "f_value = var_b / var_a if var_b >= var_a else var_a / var_b\n",
    "dfn = len(test_scores_b) - 1\n",
    "dfd = len(test_scores_a) - 1\n",
    "p_value = f.sf(f_value, dfn, dfd)\n",
    "\n",
    "# set the significance level\n",
    "alpha = 0.01\n",
    "\n",
    "# compare the p-value to the significance level\n",
    "if p_value <= alpha:\n",
    "    print('Reject null hypothesis. Variances are significantly different.')\n",
    "else:\n",
    "    print('Fail to reject null hypothesis. Variances are not significantly different.')"
   ]
  },
  {
   "cell_type": "markdown",
   "id": "5a55e9da",
   "metadata": {},
   "source": [
    "-------------------------------------------------------------------------------------------- __End__----------------------------------------------------------------------------------------------------------------"
   ]
  }
 ],
 "metadata": {
  "kernelspec": {
   "display_name": "Python 3 (ipykernel)",
   "language": "python",
   "name": "python3"
  },
  "language_info": {
   "codemirror_mode": {
    "name": "ipython",
    "version": 3
   },
   "file_extension": ".py",
   "mimetype": "text/x-python",
   "name": "python",
   "nbconvert_exporter": "python",
   "pygments_lexer": "ipython3",
   "version": "3.9.12"
  },
  "varInspector": {
   "cols": {
    "lenName": 16,
    "lenType": 16,
    "lenVar": 40
   },
   "kernels_config": {
    "python": {
     "delete_cmd_postfix": "",
     "delete_cmd_prefix": "del ",
     "library": "var_list.py",
     "varRefreshCmd": "print(var_dic_list())"
    },
    "r": {
     "delete_cmd_postfix": ") ",
     "delete_cmd_prefix": "rm(",
     "library": "var_list.r",
     "varRefreshCmd": "cat(var_dic_list()) "
    }
   },
   "types_to_exclude": [
    "module",
    "function",
    "builtin_function_or_method",
    "instance",
    "_Feature"
   ],
   "window_display": false
  }
 },
 "nbformat": 4,
 "nbformat_minor": 5
}
